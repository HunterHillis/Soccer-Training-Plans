{
 "cells": [
  {
   "cell_type": "markdown",
   "id": "d69e98b1",
   "metadata": {},
   "source": [
    "# Soccer Training Workouts"
   ]
  },
  {
   "cell_type": "markdown",
   "id": "31b6bcf9",
   "metadata": {},
   "source": [
    "---\n",
    "## Track Workouts:"
   ]
  },
  {
   "cell_type": "markdown",
   "id": "958eae05",
   "metadata": {},
   "source": [
    "### <u>Frog Jumps</u>\n",
    "\n",
    "<b>What are Frog Jumps:</b><br></br>\n",
    "Frog jumps are a compound exercise that work multiple joint and muscle groups together. This includes the quadriceps, hamstrings, gluteus maximus, hip abductors, hip adductors,triceps surae, and core muscles. \n",
    "\n",
    "\n",
    "<b>How to do Frog Jumps:</b><br></br>\n",
    "Stand with your feet between shoulder and hip-width apart, toes turned slightly outward. Brace your core and lift your chest so you’re in good posture.\n",
    "\n",
    "Squat down as low as you can. Your arms should be straight, fingers extended, so you look a little like a frog sitting on a Lilly pad.\n",
    "\n",
    "In one motion, stand up powerfully and reach your arms forward and up. Leap up into the air as high as you time.\n",
    "\n",
    "Land on slightly bent legs, descend into another rep and repeat."
   ]
  },
  {
   "attachments": {
    "Frog%20Jump%20Form.jpg": {
     "image/jpeg": "[encoded data removed]"
    }
   },
   "cell_type": "markdown",
   "id": "15f45723",
   "metadata": {},
   "source": [
    "![Frog%20Jump%20Form.jpg](attachment:Frog%20Jump%20Form.jpg)"
   ]
  },
  {
   "cell_type": "markdown",
   "id": "0f3bd057",
   "metadata": {},
   "source": [
    "<b>Sets and Reps:</b><br></br>\n",
    "3 sets of 10 reps\n",
    "\n",
    "<b>Tip:</b><br></br>\n",
    "To increase the challenge of this exercise, hold your hands behind you head with you fingers interlocked and elbows parallel to your body."
   ]
  },
  {
   "cell_type": "markdown",
   "id": "1fa1a656",
   "metadata": {},
   "source": []
  },
  {
   "cell_type": "markdown",
   "id": "779d5158",
   "metadata": {},
   "source": []
  }
 ],
 "metadata": {
  "kernelspec": {
   "display_name": "Python 3",
   "language": "python",
   "name": "python3"
  },
  "language_info": {
   "codemirror_mode": {
    "name": "ipython",
    "version": 3
   },
   "file_extension": ".py",
   "mimetype": "text/x-python",
   "name": "python",
   "nbconvert_exporter": "python",
   "pygments_lexer": "ipython3",
   "version": "3.9.2"
  }
 },
 "nbformat": 4,
 "nbformat_minor": 5
}
